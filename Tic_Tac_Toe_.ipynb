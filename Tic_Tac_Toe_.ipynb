{
  "nbformat": 4,
  "nbformat_minor": 0,
  "metadata": {
    "kernelspec": {
      "display_name": "Python 3",
      "language": "python",
      "name": "python3"
    },
    "language_info": {
      "codemirror_mode": {
        "name": "ipython",
        "version": 3
      },
      "file_extension": ".py",
      "mimetype": "text/x-python",
      "name": "python",
      "nbconvert_exporter": "python",
      "pygments_lexer": "ipython3",
      "version": "3.7.6"
    },
    "colab": {
      "name": "Tic Tac Toe_logic.ipynb",
      "provenance": [],
      "include_colab_link": true
    }
  },
  "cells": [
    {
      "cell_type": "markdown",
      "metadata": {
        "id": "view-in-github",
        "colab_type": "text"
      },
      "source": [
        "<a href=\"https://colab.research.google.com/github/goldenfingaz/my_projects/blob/master/Tic_Tac_Toe_.ipynb\" target=\"_parent\"><img src=\"https://colab.research.google.com/assets/colab-badge.svg\" alt=\"Open In Colab\"/></a>"
      ]
    },
    {
      "cell_type": "code",
      "metadata": {
        "id": "qK_aSGO5MpT_",
        "colab_type": "code",
        "colab": {}
      },
      "source": [
        "test_board = [\"Nothing\",\" \",\" \",\" \",\" \",\" \",\" \",\" \",\" \",\" \"]"
      ],
      "execution_count": 1,
      "outputs": []
    },
    {
      "cell_type": "code",
      "metadata": {
        "id": "E1x5N41TMpUJ",
        "colab_type": "code",
        "colab": {}
      },
      "source": [
        "from IPython.display import clear_output\n",
        "def display_board(board):\n",
        "    \"\"\"This function will take a list and display them as a 3*3 matrix\"\"\"\n",
        "  \n",
        "    print(board[1] +'|'+ board[2] + \"|\" + board[3])\n",
        "    print(\"-----\")\n",
        "    print(board[4] +'|'+ board[5] + \"|\" + board[6])\n",
        "    print(\"-----\")\n",
        "    print(board[7] +'|'+ board[8] + \"|\" + board[9])"
      ],
      "execution_count": 2,
      "outputs": []
    },
    {
      "cell_type": "code",
      "metadata": {
        "id": "tquqaqOtMpUS",
        "colab_type": "code",
        "colab": {}
      },
      "source": [
        "def player_input():\n",
        "    \"\"\"This function will take in input from a player and assign X or O to the corresponding players\"\"\"\n",
        "    \n",
        "    choice = \"\"\n",
        "    \n",
        "    #Keep asking until player1 makes a \"X\" or \"O\" choice.\n",
        "    while  \"X\" != choice != \"O\":\n",
        "        choice = input(\"Player 1, choose X or O to continue\")\n",
        "        \n",
        "    \n",
        "    #Assign player markers\n",
        "    player1 = choice\n",
        "    \n",
        "    if player1 == \"X\":\n",
        "        player2 = \"O\"\n",
        "    elif player1 == \"O\":\n",
        "        player2 =\"X\"\n",
        "    return (player1, player2)"
      ],
      "execution_count": 3,
      "outputs": []
    },
    {
      "cell_type": "code",
      "metadata": {
        "id": "bB_bpuMpMpUY",
        "colab_type": "code",
        "colab": {}
      },
      "source": [
        "def place_marker(board, marker, position):\n",
        "    \n",
        "    \"\"\"This function takes an input from a player and assigns it to its chosen location on the board\"\"\"\n",
        "    \n",
        "    board[position] = marker\n"
      ],
      "execution_count": 4,
      "outputs": []
    },
    {
      "cell_type": "code",
      "metadata": {
        "id": "zh-HJPs_MpUd",
        "colab_type": "code",
        "colab": {}
      },
      "source": [
        "def win_check(board, mark):\n",
        "    return (board[1]+board[2] + board[3] == mark*3) or (board[1]+board[4]+board[7] == mark*3) or (board[1]+board[5]+board[9] == mark*3) or (board[3]+board[5]+board[7] == mark*3) or (board[3]+board[6]+board[9] == mark*3) or (board[7]+board[8]+board[9]==mark*3) or (board[2]+board[5]+board[8]==mark*3) or (board[4]+board[5]+board[6]==mark*3)\n",
        "        \n"
      ],
      "execution_count": 5,
      "outputs": []
    },
    {
      "cell_type": "code",
      "metadata": {
        "id": "MLEOBh8RMpUk",
        "colab_type": "code",
        "colab": {}
      },
      "source": [
        "import random\n",
        "\n",
        "def choose_first():\n",
        "    \"\"\"This function decides which player will go first\"\"\"\n",
        "    \n",
        "    if random.randint(1,2) == 1:\n",
        "        print(\"Player 1 goes first\")\n",
        "        return \"player1\"\n",
        "    else:\n",
        "        print(\"Player 2 goes first\")\n",
        "        return \"player2\"\n",
        "        "
      ],
      "execution_count": 6,
      "outputs": []
    },
    {
      "cell_type": "code",
      "metadata": {
        "id": "xXLcsOFsMpUq",
        "colab_type": "code",
        "colab": {}
      },
      "source": [
        "def space_check(board,position):\n",
        "    return board[position] == \" \""
      ],
      "execution_count": 7,
      "outputs": []
    },
    {
      "cell_type": "code",
      "metadata": {
        "id": "0HrwTICNMpUu",
        "colab_type": "code",
        "colab": {
          "base_uri": "https://localhost:8080/",
          "height": 34
        },
        "outputId": "01160f24-3ce8-408f-b0c7-ecb73ef4e0c5"
      },
      "source": [
        "space_check(test_board,1)"
      ],
      "execution_count": 8,
      "outputs": [
        {
          "output_type": "execute_result",
          "data": {
            "text/plain": [
              "True"
            ]
          },
          "metadata": {
            "tags": []
          },
          "execution_count": 8
        }
      ]
    },
    {
      "cell_type": "code",
      "metadata": {
        "id": "HUHz2wHXMpU0",
        "colab_type": "code",
        "colab": {}
      },
      "source": [
        "def full_board_check(board):\n",
        "    return \" \" not in board"
      ],
      "execution_count": 9,
      "outputs": []
    },
    {
      "cell_type": "code",
      "metadata": {
        "id": "Vn0QA9F9MpU5",
        "colab_type": "code",
        "colab": {}
      },
      "source": [
        "def player_choice(board):\n",
        "\n",
        "    \"\"\"This function takes the players chosen position to play, and returns it if it is empty\"\"\"\n",
        "    \n",
        "    player_position = int(input(\"Please enter a number from 1-9 indicating the position on the board you'd like to play\"))\n",
        "    \n",
        "    while space_check(test_board,player_position) == False:\n",
        "            player_position = int(input(\"Please enter a number from 1-9 indicating the position on the board you'd like to play\"))\n",
        "    else:\n",
        "        return player_position"
      ],
      "execution_count": 10,
      "outputs": []
    },
    {
      "cell_type": "code",
      "metadata": {
        "id": "s7zSRtSwMpU-",
        "colab_type": "code",
        "colab": {}
      },
      "source": [
        "def replay():\n",
        "    \n",
        "    \"\"\"This function checks if the player wants to play a new game\"\"\"\n",
        "    play_again = \"\"\n",
        "    \n",
        "    while play_again not in [\"Y\",\"N\"]:\n",
        "        play_again = input(\"Would you like to play again? Type Y or N\")\n",
        "    if play_again == \"Y\":\n",
        "        return True\n",
        "    elif play_again == \"N\":\n",
        "        return False"
      ],
      "execution_count": 11,
      "outputs": []
    },
    {
      "cell_type": "code",
      "metadata": {
        "id": "Uf0Sz9PkMpVD",
        "colab_type": "code",
        "colab": {
          "base_uri": "https://localhost:8080/",
          "height": 1000
        },
        "outputId": "8b804289-ed45-4dcd-8283-d44e7ee6c0bd"
      },
      "source": [
        "print('Welcome to Tic Tac Toe!')\n",
        "\n",
        "while True:\n",
        "\n",
        "    # New game setup\n",
        "    test_board = [\"Nothing\",\" \",\" \",\" \",\" \",\" \",\" \",\" \",\" \",\" \"]\n",
        "    player1_marker, player2_marker = player_input()\n",
        "    player_turn = choose_first()\n",
        "    game_on = True\n",
        "\n",
        "    while game_on:    \n",
        "        \n",
        "        #Player1's Turn\n",
        "    \n",
        "        if player_turn == \"player1\":\n",
        "            print(\"Player 1's turn\")\n",
        "            place_marker(test_board,player1_marker,player_choice(test_board))\n",
        "            display_board(test_board)\n",
        "            \n",
        "            if full_board_check(test_board): \n",
        "                print(\"Its a draw\")\n",
        "                break\n",
        "            elif win_check(test_board, player1_marker):\n",
        "                print(\"Player 1 wins!!\")\n",
        "                break\n",
        "            player_turn = \"player2\"\n",
        "        \n",
        "        #Player2's turn.\n",
        "        \n",
        "        elif player_turn == \"player2\":\n",
        "            print(\"Player 2's turn\")\n",
        "            place_marker(test_board,player2_marker,player_choice(test_board))\n",
        "            display_board(test_board)\n",
        "            if full_board_check(test_board): \n",
        "                print(\"Its a draw\")\n",
        "                break\n",
        "            elif win_check(test_board, player2_marker):\n",
        "                print(\"Player 2 wins!!\")\n",
        "                break\n",
        "            player_turn = \"player1\"\n",
        "    if not replay(): \n",
        "        break\n",
        "\n",
        "\n",
        "    "
      ],
      "execution_count": 12,
      "outputs": [
        {
          "output_type": "stream",
          "text": [
            "Welcome to Tic Tac Toe!\n",
            "Player 1, choose X or O to continueX\n",
            "Player 2 goes first\n",
            "Player 2's turn\n",
            "Please enter a number from 1-9 indicating the position on the board you'd like to play1\n",
            "O| | \n",
            "-----\n",
            " | | \n",
            "-----\n",
            " | | \n",
            "Player 1's turn\n",
            "Please enter a number from 1-9 indicating the position on the board you'd like to play2\n",
            "O|X| \n",
            "-----\n",
            " | | \n",
            "-----\n",
            " | | \n",
            "Player 2's turn\n",
            "Please enter a number from 1-9 indicating the position on the board you'd like to play3\n",
            "O|X|O\n",
            "-----\n",
            " | | \n",
            "-----\n",
            " | | \n",
            "Player 1's turn\n",
            "Please enter a number from 1-9 indicating the position on the board you'd like to play5\n",
            "O|X|O\n",
            "-----\n",
            " |X| \n",
            "-----\n",
            " | | \n",
            "Player 2's turn\n",
            "Please enter a number from 1-9 indicating the position on the board you'd like to play8\n",
            "O|X|O\n",
            "-----\n",
            " |X| \n",
            "-----\n",
            " |O| \n",
            "Player 1's turn\n",
            "Please enter a number from 1-9 indicating the position on the board you'd like to play4\n",
            "O|X|O\n",
            "-----\n",
            "X|X| \n",
            "-----\n",
            " |O| \n",
            "Player 2's turn\n",
            "Please enter a number from 1-9 indicating the position on the board you'd like to play6\n",
            "O|X|O\n",
            "-----\n",
            "X|X|O\n",
            "-----\n",
            " |O| \n",
            "Player 1's turn\n",
            "Please enter a number from 1-9 indicating the position on the board you'd like to play9\n",
            "O|X|O\n",
            "-----\n",
            "X|X|O\n",
            "-----\n",
            " |O|X\n",
            "Player 2's turn\n",
            "Please enter a number from 1-9 indicating the position on the board you'd like to play6\n",
            "Please enter a number from 1-9 indicating the position on the board you'd like to play7\n",
            "O|X|O\n",
            "-----\n",
            "X|X|O\n",
            "-----\n",
            "O|O|X\n",
            "Its a draw\n",
            "Would you like to play again? Type Y or NN\n"
          ],
          "name": "stdout"
        }
      ]
    },
    {
      "cell_type": "code",
      "metadata": {
        "id": "--HlkTk9MpVO",
        "colab_type": "code",
        "colab": {}
      },
      "source": [
        ""
      ],
      "execution_count": 13,
      "outputs": []
    }
  ]
}